{
 "cells": [
  {
   "cell_type": "code",
   "execution_count": 6,
   "metadata": {},
   "outputs": [
    {
     "data": {
      "text/html": [
       "<div>\n",
       "<style scoped>\n",
       "    .dataframe tbody tr th:only-of-type {\n",
       "        vertical-align: middle;\n",
       "    }\n",
       "\n",
       "    .dataframe tbody tr th {\n",
       "        vertical-align: top;\n",
       "    }\n",
       "\n",
       "    .dataframe thead th {\n",
       "        text-align: right;\n",
       "    }\n",
       "</style>\n",
       "<table border=\"1\" class=\"dataframe\">\n",
       "  <thead>\n",
       "    <tr style=\"text-align: right;\">\n",
       "      <th></th>\n",
       "      <th>Title</th>\n",
       "      <th>Release Date</th>\n",
       "      <th>Team</th>\n",
       "      <th>Rating</th>\n",
       "      <th>Number of Reviews</th>\n",
       "      <th>Plays</th>\n",
       "      <th>Playing</th>\n",
       "      <th>rank</th>\n",
       "      <th>platform</th>\n",
       "      <th>genre</th>\n",
       "      <th>publisher</th>\n",
       "      <th>na_sales</th>\n",
       "      <th>eu_sales</th>\n",
       "      <th>jp_sales</th>\n",
       "      <th>other_sales</th>\n",
       "      <th>global_sales</th>\n",
       "    </tr>\n",
       "  </thead>\n",
       "  <tbody>\n",
       "    <tr>\n",
       "      <th>0</th>\n",
       "      <td>Elden Ring</td>\n",
       "      <td>Feb 25, 2022</td>\n",
       "      <td>['Bandai Namco Entertainment', 'FromSoftware']</td>\n",
       "      <td>4.5</td>\n",
       "      <td>3.9K</td>\n",
       "      <td>17K</td>\n",
       "      <td>3.8K</td>\n",
       "      <td>NaN</td>\n",
       "      <td>NaN</td>\n",
       "      <td>NaN</td>\n",
       "      <td>NaN</td>\n",
       "      <td>NaN</td>\n",
       "      <td>NaN</td>\n",
       "      <td>NaN</td>\n",
       "      <td>NaN</td>\n",
       "      <td>NaN</td>\n",
       "    </tr>\n",
       "    <tr>\n",
       "      <th>1</th>\n",
       "      <td>Hades</td>\n",
       "      <td>Dec 10, 2019</td>\n",
       "      <td>['Supergiant Games']</td>\n",
       "      <td>4.3</td>\n",
       "      <td>2.9K</td>\n",
       "      <td>21K</td>\n",
       "      <td>3.2K</td>\n",
       "      <td>NaN</td>\n",
       "      <td>NaN</td>\n",
       "      <td>NaN</td>\n",
       "      <td>NaN</td>\n",
       "      <td>NaN</td>\n",
       "      <td>NaN</td>\n",
       "      <td>NaN</td>\n",
       "      <td>NaN</td>\n",
       "      <td>NaN</td>\n",
       "    </tr>\n",
       "    <tr>\n",
       "      <th>2</th>\n",
       "      <td>The Legend of Zelda: Breath of the Wild</td>\n",
       "      <td>Mar 03, 2017</td>\n",
       "      <td>['Nintendo', 'Nintendo EPD Production Group No...</td>\n",
       "      <td>4.4</td>\n",
       "      <td>4.3K</td>\n",
       "      <td>30K</td>\n",
       "      <td>2.5K</td>\n",
       "      <td>NaN</td>\n",
       "      <td>NaN</td>\n",
       "      <td>NaN</td>\n",
       "      <td>NaN</td>\n",
       "      <td>NaN</td>\n",
       "      <td>NaN</td>\n",
       "      <td>NaN</td>\n",
       "      <td>NaN</td>\n",
       "      <td>NaN</td>\n",
       "    </tr>\n",
       "    <tr>\n",
       "      <th>3</th>\n",
       "      <td>Undertale</td>\n",
       "      <td>Sep 15, 2015</td>\n",
       "      <td>['tobyfox', '8-4']</td>\n",
       "      <td>4.2</td>\n",
       "      <td>3.5K</td>\n",
       "      <td>28K</td>\n",
       "      <td>679</td>\n",
       "      <td>NaN</td>\n",
       "      <td>NaN</td>\n",
       "      <td>NaN</td>\n",
       "      <td>NaN</td>\n",
       "      <td>NaN</td>\n",
       "      <td>NaN</td>\n",
       "      <td>NaN</td>\n",
       "      <td>NaN</td>\n",
       "      <td>NaN</td>\n",
       "    </tr>\n",
       "    <tr>\n",
       "      <th>4</th>\n",
       "      <td>Hollow Knight</td>\n",
       "      <td>Feb 24, 2017</td>\n",
       "      <td>['Team Cherry']</td>\n",
       "      <td>4.4</td>\n",
       "      <td>3K</td>\n",
       "      <td>21K</td>\n",
       "      <td>2.4K</td>\n",
       "      <td>NaN</td>\n",
       "      <td>NaN</td>\n",
       "      <td>NaN</td>\n",
       "      <td>NaN</td>\n",
       "      <td>NaN</td>\n",
       "      <td>NaN</td>\n",
       "      <td>NaN</td>\n",
       "      <td>NaN</td>\n",
       "      <td>NaN</td>\n",
       "    </tr>\n",
       "  </tbody>\n",
       "</table>\n",
       "</div>"
      ],
      "text/plain": [
       "                                     Title  Release Date  \\\n",
       "0                               Elden Ring  Feb 25, 2022   \n",
       "1                                    Hades  Dec 10, 2019   \n",
       "2  The Legend of Zelda: Breath of the Wild  Mar 03, 2017   \n",
       "3                                Undertale  Sep 15, 2015   \n",
       "4                            Hollow Knight  Feb 24, 2017   \n",
       "\n",
       "                                                Team  Rating  \\\n",
       "0     ['Bandai Namco Entertainment', 'FromSoftware']     4.5   \n",
       "1                               ['Supergiant Games']     4.3   \n",
       "2  ['Nintendo', 'Nintendo EPD Production Group No...     4.4   \n",
       "3                                 ['tobyfox', '8-4']     4.2   \n",
       "4                                    ['Team Cherry']     4.4   \n",
       "\n",
       "  Number of Reviews Plays Playing  rank platform genre publisher  na_sales  \\\n",
       "0              3.9K   17K    3.8K   NaN      NaN   NaN       NaN       NaN   \n",
       "1              2.9K   21K    3.2K   NaN      NaN   NaN       NaN       NaN   \n",
       "2              4.3K   30K    2.5K   NaN      NaN   NaN       NaN       NaN   \n",
       "3              3.5K   28K     679   NaN      NaN   NaN       NaN       NaN   \n",
       "4                3K   21K    2.4K   NaN      NaN   NaN       NaN       NaN   \n",
       "\n",
       "   eu_sales  jp_sales  other_sales  global_sales  \n",
       "0       NaN       NaN          NaN           NaN  \n",
       "1       NaN       NaN          NaN           NaN  \n",
       "2       NaN       NaN          NaN           NaN  \n",
       "3       NaN       NaN          NaN           NaN  \n",
       "4       NaN       NaN          NaN           NaN  "
      ]
     },
     "execution_count": 6,
     "metadata": {},
     "output_type": "execute_result"
    }
   ],
   "source": [
    "# Import our dependencies\n",
    "from sklearn.model_selection import train_test_split\n",
    "from sklearn.preprocessing import StandardScaler\n",
    "import pandas as pd\n",
    "import tensorflow as tf\n",
    "\n",
    "#  Import and read the charity_data.csv.\n",
    "import pandas as pd \n",
    "vid_game_df = pd.read_csv(\"Resources/merged_data_4.csv\")\n",
    "vid_game_df.head()"
   ]
  },
  {
   "cell_type": "code",
   "execution_count": 7,
   "metadata": {},
   "outputs": [
    {
     "name": "stdout",
     "output_type": "stream",
     "text": [
      "Title                12146\n",
      "Release Date           972\n",
      "Team                   757\n",
      "Rating                  35\n",
      "Number of Reviews      600\n",
      "Plays                  255\n",
      "Playing                394\n",
      "rank                 11493\n",
      "platform                31\n",
      "genre                   12\n",
      "publisher              567\n",
      "na_sales               387\n",
      "eu_sales               286\n",
      "jp_sales               242\n",
      "other_sales            146\n",
      "global_sales           588\n",
      "dtype: int64\n"
     ]
    }
   ],
   "source": [
    "# Determine the number of unique values in each column.\n",
    "unique_vals= vid_game_df.nunique()\n",
    "print(unique_vals)"
   ]
  },
  {
   "attachments": {},
   "cell_type": "markdown",
   "metadata": {},
   "source": [
    "<h2 style=\"font-size: 24px;\">Using a Logistic Regression to Predict Video Game Success</h2>"
   ]
  },
  {
   "cell_type": "code",
   "execution_count": 32,
   "metadata": {},
   "outputs": [
    {
     "name": "stdout",
     "output_type": "stream",
     "text": [
      "                                     Title  Release Date  \\\n",
      "0                               Elden Ring  Feb 25, 2022   \n",
      "1                                    Hades  Dec 10, 2019   \n",
      "2  The Legend of Zelda: Breath of the Wild  Mar 03, 2017   \n",
      "3                                Undertale  Sep 15, 2015   \n",
      "4                            Hollow Knight  Feb 24, 2017   \n",
      "\n",
      "                                                Team  Rating  \\\n",
      "0     ['Bandai Namco Entertainment', 'FromSoftware']     4.5   \n",
      "1                               ['Supergiant Games']     4.3   \n",
      "2  ['Nintendo', 'Nintendo EPD Production Group No...     4.4   \n",
      "3                                 ['tobyfox', '8-4']     4.2   \n",
      "4                                    ['Team Cherry']     4.4   \n",
      "\n",
      "  Number of Reviews Plays Playing  rank platform genre publisher  na_sales  \\\n",
      "0              3.9K   17K    3.8K   NaN      NaN   NaN       NaN       NaN   \n",
      "1              2.9K   21K    3.2K   NaN      NaN   NaN       NaN       NaN   \n",
      "2              4.3K   30K    2.5K   NaN      NaN   NaN       NaN       NaN   \n",
      "3              3.5K   28K     679   NaN      NaN   NaN       NaN       NaN   \n",
      "4                3K   21K    2.4K   NaN      NaN   NaN       NaN       NaN   \n",
      "\n",
      "   eu_sales  jp_sales  other_sales  global_sales  Success  \n",
      "0       NaN       NaN          NaN           NaN        1  \n",
      "1       NaN       NaN          NaN           NaN        1  \n",
      "2       NaN       NaN          NaN           NaN        1  \n",
      "3       NaN       NaN          NaN           NaN        1  \n",
      "4       NaN       NaN          NaN           NaN        1  \n"
     ]
    }
   ],
   "source": [
    "# Define Success\n",
    "vid_game_df[\"Success\"] = (vid_game_df[\"Rating\"] > 4.0).astype(int)\n",
    "\n",
    "# Print first 5 rows\n",
    "print(vid_game_df.head())"
   ]
  },
  {
   "cell_type": "code",
   "execution_count": 9,
   "metadata": {},
   "outputs": [
    {
     "name": "stdout",
     "output_type": "stream",
     "text": [
      "Title                    0\n",
      "Release Date         11047\n",
      "Team                 11048\n",
      "Rating               11060\n",
      "Number of Reviews    11047\n",
      "Plays                11047\n",
      "Playing              11047\n",
      "rank                   641\n",
      "platform               641\n",
      "genre                  641\n",
      "publisher              692\n",
      "na_sales               641\n",
      "eu_sales               641\n",
      "jp_sales               641\n",
      "other_sales            641\n",
      "global_sales           641\n",
      "Success                  0\n",
      "dtype: int64\n"
     ]
    }
   ],
   "source": [
    "# How much missing data do we have?\n",
    "nan_counts= vid_game_df.isna().sum()\n",
    "\n",
    "print(nan_counts)"
   ]
  },
  {
   "cell_type": "code",
   "execution_count": 10,
   "metadata": {},
   "outputs": [
    {
     "name": "stdout",
     "output_type": "stream",
     "text": [
      "12146\n"
     ]
    }
   ],
   "source": [
    "# Is this statistically significant?\n",
    "row_count= vid_game_df.shape[0]\n",
    "print(row_count)"
   ]
  },
  {
   "cell_type": "code",
   "execution_count": 12,
   "metadata": {},
   "outputs": [
    {
     "name": "stdout",
     "output_type": "stream",
     "text": [
      "Title                 0.000000\n",
      "Release Date         90.951754\n",
      "Team                 90.959987\n",
      "Rating               91.058785\n",
      "Number of Reviews    90.951754\n",
      "Plays                90.951754\n",
      "Playing              90.951754\n",
      "rank                  5.277458\n",
      "platform              5.277458\n",
      "genre                 5.277458\n",
      "publisher             5.697349\n",
      "na_sales              5.277458\n",
      "eu_sales              5.277458\n",
      "jp_sales              5.277458\n",
      "other_sales           5.277458\n",
      "global_sales          5.277458\n",
      "Success               0.000000\n",
      "dtype: float64\n"
     ]
    }
   ],
   "source": [
    "# Row count percentage of nan values relative to absolute number of rows\n",
    "row_percent= (nan_counts / row_count) * 100\n",
    "print(row_percent)\n"
   ]
  },
  {
   "cell_type": "code",
   "execution_count": 33,
   "metadata": {},
   "outputs": [
    {
     "data": {
      "text/html": [
       "<div>\n",
       "<style scoped>\n",
       "    .dataframe tbody tr th:only-of-type {\n",
       "        vertical-align: middle;\n",
       "    }\n",
       "\n",
       "    .dataframe tbody tr th {\n",
       "        vertical-align: top;\n",
       "    }\n",
       "\n",
       "    .dataframe thead th {\n",
       "        text-align: right;\n",
       "    }\n",
       "</style>\n",
       "<table border=\"1\" class=\"dataframe\">\n",
       "  <thead>\n",
       "    <tr style=\"text-align: right;\">\n",
       "      <th></th>\n",
       "      <th>Title</th>\n",
       "      <th>Release Date</th>\n",
       "      <th>Team</th>\n",
       "      <th>Rating</th>\n",
       "      <th>Number of Reviews</th>\n",
       "      <th>Plays</th>\n",
       "      <th>Playing</th>\n",
       "      <th>Success</th>\n",
       "    </tr>\n",
       "  </thead>\n",
       "  <tbody>\n",
       "    <tr>\n",
       "      <th>12141</th>\n",
       "      <td>Chou Ezaru wa Akai Hana: Koi wa Tsuki ni Shiru...</td>\n",
       "      <td>NaN</td>\n",
       "      <td>NaN</td>\n",
       "      <td>NaN</td>\n",
       "      <td>NaN</td>\n",
       "      <td>NaN</td>\n",
       "      <td>NaN</td>\n",
       "      <td>0</td>\n",
       "    </tr>\n",
       "    <tr>\n",
       "      <th>12142</th>\n",
       "      <td>Eiyuu Densetsu: Sora no Kiseki Material Collec...</td>\n",
       "      <td>NaN</td>\n",
       "      <td>NaN</td>\n",
       "      <td>NaN</td>\n",
       "      <td>NaN</td>\n",
       "      <td>NaN</td>\n",
       "      <td>NaN</td>\n",
       "      <td>0</td>\n",
       "    </tr>\n",
       "    <tr>\n",
       "      <th>12143</th>\n",
       "      <td>Plushees</td>\n",
       "      <td>NaN</td>\n",
       "      <td>NaN</td>\n",
       "      <td>NaN</td>\n",
       "      <td>NaN</td>\n",
       "      <td>NaN</td>\n",
       "      <td>NaN</td>\n",
       "      <td>0</td>\n",
       "    </tr>\n",
       "    <tr>\n",
       "      <th>12144</th>\n",
       "      <td>Woody Woodpecker in Crazy Castle 5</td>\n",
       "      <td>NaN</td>\n",
       "      <td>NaN</td>\n",
       "      <td>NaN</td>\n",
       "      <td>NaN</td>\n",
       "      <td>NaN</td>\n",
       "      <td>NaN</td>\n",
       "      <td>0</td>\n",
       "    </tr>\n",
       "    <tr>\n",
       "      <th>12145</th>\n",
       "      <td>Know How 2</td>\n",
       "      <td>NaN</td>\n",
       "      <td>NaN</td>\n",
       "      <td>NaN</td>\n",
       "      <td>NaN</td>\n",
       "      <td>NaN</td>\n",
       "      <td>NaN</td>\n",
       "      <td>0</td>\n",
       "    </tr>\n",
       "  </tbody>\n",
       "</table>\n",
       "</div>"
      ],
      "text/plain": [
       "                                                   Title Release Date Team  \\\n",
       "12141  Chou Ezaru wa Akai Hana: Koi wa Tsuki ni Shiru...          NaN  NaN   \n",
       "12142  Eiyuu Densetsu: Sora no Kiseki Material Collec...          NaN  NaN   \n",
       "12143                                           Plushees          NaN  NaN   \n",
       "12144                 Woody Woodpecker in Crazy Castle 5          NaN  NaN   \n",
       "12145                                         Know How 2          NaN  NaN   \n",
       "\n",
       "       Rating Number of Reviews Plays Playing  Success  \n",
       "12141     NaN               NaN   NaN     NaN        0  \n",
       "12142     NaN               NaN   NaN     NaN        0  \n",
       "12143     NaN               NaN   NaN     NaN        0  \n",
       "12144     NaN               NaN   NaN     NaN        0  \n",
       "12145     NaN               NaN   NaN     NaN        0  "
      ]
     },
     "execution_count": 33,
     "metadata": {},
     "output_type": "execute_result"
    }
   ],
   "source": [
    "# Clean data to predict 'Rating' based on 'Success', 'Number of Reviews', 'Plays', and 'Playing'\n",
    "clean_rating= vid_game_df.drop(columns=['rank', 'platform', 'genre', 'publisher', 'na_sales', 'eu_sales', 'jp_sales', 'other_sales', 'global_sales'])\n",
    "clean_rating.head()\n",
    "clean_rating.tail()"
   ]
  },
  {
   "cell_type": "code",
   "execution_count": 17,
   "metadata": {},
   "outputs": [
    {
     "name": "stdout",
     "output_type": "stream",
     "text": [
      "(1085, 8)\n"
     ]
    }
   ],
   "source": [
    "# Drop the rows with missing data, see what the total row count is afterwards\n",
    "cleaned_df= clean_rating.dropna()\n",
    "print(cleaned_df.shape)"
   ]
  },
  {
   "cell_type": "code",
   "execution_count": 22,
   "metadata": {},
   "outputs": [
    {
     "data": {
      "text/html": [
       "<div>\n",
       "<style scoped>\n",
       "    .dataframe tbody tr th:only-of-type {\n",
       "        vertical-align: middle;\n",
       "    }\n",
       "\n",
       "    .dataframe tbody tr th {\n",
       "        vertical-align: top;\n",
       "    }\n",
       "\n",
       "    .dataframe thead th {\n",
       "        text-align: right;\n",
       "    }\n",
       "</style>\n",
       "<table border=\"1\" class=\"dataframe\">\n",
       "  <thead>\n",
       "    <tr style=\"text-align: right;\">\n",
       "      <th></th>\n",
       "      <th>Rating</th>\n",
       "      <th>Number of Reviews</th>\n",
       "      <th>Plays</th>\n",
       "      <th>Playing</th>\n",
       "      <th>Success</th>\n",
       "    </tr>\n",
       "  </thead>\n",
       "  <tbody>\n",
       "    <tr>\n",
       "      <th>0</th>\n",
       "      <td>4.5</td>\n",
       "      <td>3.9K</td>\n",
       "      <td>17K</td>\n",
       "      <td>3.8K</td>\n",
       "      <td>1</td>\n",
       "    </tr>\n",
       "    <tr>\n",
       "      <th>1</th>\n",
       "      <td>4.3</td>\n",
       "      <td>2.9K</td>\n",
       "      <td>21K</td>\n",
       "      <td>3.2K</td>\n",
       "      <td>1</td>\n",
       "    </tr>\n",
       "    <tr>\n",
       "      <th>2</th>\n",
       "      <td>4.4</td>\n",
       "      <td>4.3K</td>\n",
       "      <td>30K</td>\n",
       "      <td>2.5K</td>\n",
       "      <td>1</td>\n",
       "    </tr>\n",
       "    <tr>\n",
       "      <th>3</th>\n",
       "      <td>4.2</td>\n",
       "      <td>3.5K</td>\n",
       "      <td>28K</td>\n",
       "      <td>679</td>\n",
       "      <td>1</td>\n",
       "    </tr>\n",
       "    <tr>\n",
       "      <th>4</th>\n",
       "      <td>4.4</td>\n",
       "      <td>3K</td>\n",
       "      <td>21K</td>\n",
       "      <td>2.4K</td>\n",
       "      <td>1</td>\n",
       "    </tr>\n",
       "  </tbody>\n",
       "</table>\n",
       "</div>"
      ],
      "text/plain": [
       "   Rating Number of Reviews Plays Playing  Success\n",
       "0     4.5              3.9K   17K    3.8K        1\n",
       "1     4.3              2.9K   21K    3.2K        1\n",
       "2     4.4              4.3K   30K    2.5K        1\n",
       "3     4.2              3.5K   28K     679        1\n",
       "4     4.4                3K   21K    2.4K        1"
      ]
     },
     "execution_count": 22,
     "metadata": {},
     "output_type": "execute_result"
    }
   ],
   "source": [
    "# To try the logisitic regression, I will end up having to drop\n",
    "# the 'Title', 'Release Date', and 'Team' as logisitic regressions cannot compute categorical data\n",
    "cleaned_df=cleaned_df.drop(columns=['Title'])\n",
    "cleaned_df=cleaned_df.drop(columns=['Release Date', 'Team'])\n",
    "cleaned_df.head()"
   ]
  },
  {
   "cell_type": "code",
   "execution_count": 24,
   "metadata": {},
   "outputs": [
    {
     "data": {
      "text/html": [
       "<div>\n",
       "<style scoped>\n",
       "    .dataframe tbody tr th:only-of-type {\n",
       "        vertical-align: middle;\n",
       "    }\n",
       "\n",
       "    .dataframe tbody tr th {\n",
       "        vertical-align: top;\n",
       "    }\n",
       "\n",
       "    .dataframe thead th {\n",
       "        text-align: right;\n",
       "    }\n",
       "</style>\n",
       "<table border=\"1\" class=\"dataframe\">\n",
       "  <thead>\n",
       "    <tr style=\"text-align: right;\">\n",
       "      <th></th>\n",
       "      <th>Rating</th>\n",
       "      <th>Number of Reviews</th>\n",
       "      <th>Plays</th>\n",
       "      <th>Playing</th>\n",
       "      <th>Success</th>\n",
       "    </tr>\n",
       "  </thead>\n",
       "  <tbody>\n",
       "    <tr>\n",
       "      <th>0</th>\n",
       "      <td>4.5</td>\n",
       "      <td>3900</td>\n",
       "      <td>17000</td>\n",
       "      <td>3800</td>\n",
       "      <td>1</td>\n",
       "    </tr>\n",
       "    <tr>\n",
       "      <th>1</th>\n",
       "      <td>4.3</td>\n",
       "      <td>2900</td>\n",
       "      <td>21000</td>\n",
       "      <td>3200</td>\n",
       "      <td>1</td>\n",
       "    </tr>\n",
       "    <tr>\n",
       "      <th>2</th>\n",
       "      <td>4.4</td>\n",
       "      <td>4300</td>\n",
       "      <td>30000</td>\n",
       "      <td>2500</td>\n",
       "      <td>1</td>\n",
       "    </tr>\n",
       "    <tr>\n",
       "      <th>3</th>\n",
       "      <td>4.2</td>\n",
       "      <td>3500</td>\n",
       "      <td>28000</td>\n",
       "      <td>679</td>\n",
       "      <td>1</td>\n",
       "    </tr>\n",
       "    <tr>\n",
       "      <th>4</th>\n",
       "      <td>4.4</td>\n",
       "      <td>3000</td>\n",
       "      <td>21000</td>\n",
       "      <td>2400</td>\n",
       "      <td>1</td>\n",
       "    </tr>\n",
       "  </tbody>\n",
       "</table>\n",
       "</div>"
      ],
      "text/plain": [
       "   Rating  Number of Reviews  Plays  Playing  Success\n",
       "0     4.5               3900  17000     3800        1\n",
       "1     4.3               2900  21000     3200        1\n",
       "2     4.4               4300  30000     2500        1\n",
       "3     4.2               3500  28000      679        1\n",
       "4     4.4               3000  21000     2400        1"
      ]
     },
     "execution_count": 24,
     "metadata": {},
     "output_type": "execute_result"
    }
   ],
   "source": [
    "# Convert everything to an integer\n",
    "cleaned_df['Plays'] = cleaned_df['Plays'].apply(lambda x: int(float(x[:-1]) * 1000) if 'K' in x else int(x))\n",
    "cleaned_df['Playing'] = cleaned_df['Playing'].apply(lambda x: int(float(x[:-1]) * 1000) if 'K' in x else int(x))\n",
    "cleaned_df['Number of Reviews'] = cleaned_df['Number of Reviews'].apply(lambda x: int(float(x[:-1]) * 1000) if 'K' in x else int(x))\n",
    "cleaned_df.head()"
   ]
  },
  {
   "cell_type": "code",
   "execution_count": 18,
   "metadata": {},
   "outputs": [],
   "source": [
    "# import additional necessary libraries\n",
    "from sklearn.linear_model import LogisticRegression\n",
    "from sklearn.metrics import accuracy_score"
   ]
  },
  {
   "cell_type": "code",
   "execution_count": 25,
   "metadata": {},
   "outputs": [
    {
     "name": "stdout",
     "output_type": "stream",
     "text": [
      "Accuracy: 0.9969325153374233\n"
     ]
    }
   ],
   "source": [
    "# Define X and y\n",
    "X = cleaned_df.drop('Success', axis=1)\n",
    "y = cleaned_df['Success']\n",
    "\n",
    "# Split the preprocessed data into training and testing datasets\n",
    "X_train, X_test, y_train, y_test = train_test_split(X, y, test_size=0.3, random_state=42)\n",
    "\n",
    "# Create logisitic regression model\n",
    "logreg = LogisticRegression()\n",
    "\n",
    "# Fit the model using the training data\n",
    "logreg.fit(X_train, y_train)\n",
    "\n",
    "# Make predicitions using the testing data\n",
    "y_pred= logreg.predict(X_test)\n",
    "\n",
    "# Evaluate the performance of teh model using the accuracy score\n",
    "accuracy= accuracy_score(y_test, y_pred)\n",
    "print(\"Accuracy:\", accuracy)"
   ]
  },
  {
   "attachments": {},
   "cell_type": "markdown",
   "metadata": {},
   "source": [
    "<h2 style=\"font-size: 24px;\">Using Decision Tree To Predict Video Game Success</h2>"
   ]
  },
  {
   "cell_type": "code",
   "execution_count": 26,
   "metadata": {},
   "outputs": [],
   "source": [
    "# import additional libraries\n",
    "from sklearn.tree import DecisionTreeClassifier"
   ]
  },
  {
   "cell_type": "code",
   "execution_count": 34,
   "metadata": {},
   "outputs": [],
   "source": [
    "# Drop title from cleaned_df since it is a string and cannot be used.\n",
    "tree_clean= clean_rating.drop('Title', axis=1)"
   ]
  },
  {
   "cell_type": "code",
   "execution_count": 36,
   "metadata": {},
   "outputs": [],
   "source": [
    "# Looks like I need to drop 'Release Date' too.\n",
    "tree_clean.drop('Release Date', axis=1, inplace=True)"
   ]
  },
  {
   "cell_type": "code",
   "execution_count": 38,
   "metadata": {},
   "outputs": [],
   "source": [
    "# And 'Team' it seems\n",
    "tree_clean.drop('Team', axis=1, inplace=True)"
   ]
  },
  {
   "cell_type": "code",
   "execution_count": 44,
   "metadata": {},
   "outputs": [
    {
     "name": "stdout",
     "output_type": "stream",
     "text": [
      "(1086, 5)\n"
     ]
    }
   ],
   "source": [
    "# Drop NaN datapoints\n",
    "tree_clean.dropna(inplace=True)\n",
    "print(tree_clean.shape)"
   ]
  },
  {
   "cell_type": "code",
   "execution_count": 45,
   "metadata": {},
   "outputs": [
    {
     "data": {
      "text/html": [
       "<div>\n",
       "<style scoped>\n",
       "    .dataframe tbody tr th:only-of-type {\n",
       "        vertical-align: middle;\n",
       "    }\n",
       "\n",
       "    .dataframe tbody tr th {\n",
       "        vertical-align: top;\n",
       "    }\n",
       "\n",
       "    .dataframe thead th {\n",
       "        text-align: right;\n",
       "    }\n",
       "</style>\n",
       "<table border=\"1\" class=\"dataframe\">\n",
       "  <thead>\n",
       "    <tr style=\"text-align: right;\">\n",
       "      <th></th>\n",
       "      <th>Rating</th>\n",
       "      <th>Number of Reviews</th>\n",
       "      <th>Plays</th>\n",
       "      <th>Playing</th>\n",
       "      <th>Success</th>\n",
       "    </tr>\n",
       "  </thead>\n",
       "  <tbody>\n",
       "    <tr>\n",
       "      <th>0</th>\n",
       "      <td>4.5</td>\n",
       "      <td>3900</td>\n",
       "      <td>17000</td>\n",
       "      <td>3800</td>\n",
       "      <td>1</td>\n",
       "    </tr>\n",
       "    <tr>\n",
       "      <th>1</th>\n",
       "      <td>4.3</td>\n",
       "      <td>2900</td>\n",
       "      <td>21000</td>\n",
       "      <td>3200</td>\n",
       "      <td>1</td>\n",
       "    </tr>\n",
       "    <tr>\n",
       "      <th>2</th>\n",
       "      <td>4.4</td>\n",
       "      <td>4300</td>\n",
       "      <td>30000</td>\n",
       "      <td>2500</td>\n",
       "      <td>1</td>\n",
       "    </tr>\n",
       "    <tr>\n",
       "      <th>3</th>\n",
       "      <td>4.2</td>\n",
       "      <td>3500</td>\n",
       "      <td>28000</td>\n",
       "      <td>679</td>\n",
       "      <td>1</td>\n",
       "    </tr>\n",
       "    <tr>\n",
       "      <th>4</th>\n",
       "      <td>4.4</td>\n",
       "      <td>3000</td>\n",
       "      <td>21000</td>\n",
       "      <td>2400</td>\n",
       "      <td>1</td>\n",
       "    </tr>\n",
       "  </tbody>\n",
       "</table>\n",
       "</div>"
      ],
      "text/plain": [
       "   Rating  Number of Reviews  Plays  Playing  Success\n",
       "0     4.5               3900  17000     3800        1\n",
       "1     4.3               2900  21000     3200        1\n",
       "2     4.4               4300  30000     2500        1\n",
       "3     4.2               3500  28000      679        1\n",
       "4     4.4               3000  21000     2400        1"
      ]
     },
     "execution_count": 45,
     "metadata": {},
     "output_type": "execute_result"
    }
   ],
   "source": [
    "# Don't forget to convert everything to an integer\n",
    "tree_clean['Plays'] = tree_clean['Plays'].apply(lambda x: int(float(x[:-1]) * 1000) if 'K' in x else int(x))\n",
    "tree_clean['Playing'] = tree_clean['Playing'].apply(lambda x: int(float(x[:-1]) * 1000) if 'K' in x else int(x))\n",
    "tree_clean['Number of Reviews'] = tree_clean['Number of Reviews'].apply(lambda x: int(float(x[:-1]) * 1000) if 'K' in x else int(x))\n",
    "tree_clean.head()"
   ]
  },
  {
   "cell_type": "code",
   "execution_count": 46,
   "metadata": {},
   "outputs": [
    {
     "name": "stdout",
     "output_type": "stream",
     "text": [
      "Accuracy: 1.0\n"
     ]
    }
   ],
   "source": [
    "# Separate target variable and the features\n",
    "X = tree_clean.drop('Success', axis=1)\n",
    "y = tree_clean['Success']\n",
    "\n",
    "# Split the data inot training and testing sets\n",
    "X_train, X_test, y_train, y_test = train_test_split(X, y, test_size=0.2, random_state=42)\n",
    "\n",
    "# Create the decision tree\n",
    "dtc= DecisionTreeClassifier()\n",
    "\n",
    "# Train the model on the training data\n",
    "dtc.fit(X_train, y_train)\n",
    "\n",
    "# Predict on the test data\n",
    "y_pred = dtc.predict(X_test)\n",
    "\n",
    "# Evaluate the accuracy of the model\n",
    "accuracy = accuracy_score(y_test, y_pred)\n",
    "print(\"Accuracy:\", accuracy)"
   ]
  }
 ],
 "metadata": {
  "kernelspec": {
   "display_name": "base",
   "language": "python",
   "name": "python3"
  },
  "language_info": {
   "codemirror_mode": {
    "name": "ipython",
    "version": 3
   },
   "file_extension": ".py",
   "mimetype": "text/x-python",
   "name": "python",
   "nbconvert_exporter": "python",
   "pygments_lexer": "ipython3",
   "version": "3.9.12"
  },
  "orig_nbformat": 4
 },
 "nbformat": 4,
 "nbformat_minor": 2
}
