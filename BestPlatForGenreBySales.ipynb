{
 "cells": [
  {
   "cell_type": "code",
   "execution_count": 1,
   "metadata": {},
   "outputs": [],
   "source": [
    "import pandas as pd"
   ]
  },
  {
   "cell_type": "code",
   "execution_count": 2,
   "metadata": {},
   "outputs": [
    {
     "data": {
      "text/html": [
       "<div>\n",
       "<style scoped>\n",
       "    .dataframe tbody tr th:only-of-type {\n",
       "        vertical-align: middle;\n",
       "    }\n",
       "\n",
       "    .dataframe tbody tr th {\n",
       "        vertical-align: top;\n",
       "    }\n",
       "\n",
       "    .dataframe thead th {\n",
       "        text-align: right;\n",
       "    }\n",
       "</style>\n",
       "<table border=\"1\" class=\"dataframe\">\n",
       "  <thead>\n",
       "    <tr style=\"text-align: right;\">\n",
       "      <th></th>\n",
       "      <th>Title</th>\n",
       "      <th>Release Date</th>\n",
       "      <th>Team</th>\n",
       "      <th>Rating</th>\n",
       "      <th>Number of Reviews</th>\n",
       "      <th>Plays</th>\n",
       "      <th>Playing</th>\n",
       "      <th>rank</th>\n",
       "      <th>platform</th>\n",
       "      <th>genre</th>\n",
       "      <th>publisher</th>\n",
       "      <th>na_sales</th>\n",
       "      <th>eu_sales</th>\n",
       "      <th>jp_sales</th>\n",
       "      <th>other_sales</th>\n",
       "      <th>global_sales</th>\n",
       "    </tr>\n",
       "  </thead>\n",
       "  <tbody>\n",
       "    <tr>\n",
       "      <th>0</th>\n",
       "      <td>Elden Ring</td>\n",
       "      <td>Feb 25, 2022</td>\n",
       "      <td>['Bandai Namco Entertainment', 'FromSoftware']</td>\n",
       "      <td>4.5</td>\n",
       "      <td>3.9K</td>\n",
       "      <td>17K</td>\n",
       "      <td>3.8K</td>\n",
       "      <td>NaN</td>\n",
       "      <td>NaN</td>\n",
       "      <td>NaN</td>\n",
       "      <td>NaN</td>\n",
       "      <td>NaN</td>\n",
       "      <td>NaN</td>\n",
       "      <td>NaN</td>\n",
       "      <td>NaN</td>\n",
       "      <td>NaN</td>\n",
       "    </tr>\n",
       "    <tr>\n",
       "      <th>1</th>\n",
       "      <td>Hades</td>\n",
       "      <td>Dec 10, 2019</td>\n",
       "      <td>['Supergiant Games']</td>\n",
       "      <td>4.3</td>\n",
       "      <td>2.9K</td>\n",
       "      <td>21K</td>\n",
       "      <td>3.2K</td>\n",
       "      <td>NaN</td>\n",
       "      <td>NaN</td>\n",
       "      <td>NaN</td>\n",
       "      <td>NaN</td>\n",
       "      <td>NaN</td>\n",
       "      <td>NaN</td>\n",
       "      <td>NaN</td>\n",
       "      <td>NaN</td>\n",
       "      <td>NaN</td>\n",
       "    </tr>\n",
       "    <tr>\n",
       "      <th>2</th>\n",
       "      <td>The Legend of Zelda: Breath of the Wild</td>\n",
       "      <td>Mar 03, 2017</td>\n",
       "      <td>['Nintendo', 'Nintendo EPD Production Group No...</td>\n",
       "      <td>4.4</td>\n",
       "      <td>4.3K</td>\n",
       "      <td>30K</td>\n",
       "      <td>2.5K</td>\n",
       "      <td>NaN</td>\n",
       "      <td>NaN</td>\n",
       "      <td>NaN</td>\n",
       "      <td>NaN</td>\n",
       "      <td>NaN</td>\n",
       "      <td>NaN</td>\n",
       "      <td>NaN</td>\n",
       "      <td>NaN</td>\n",
       "      <td>NaN</td>\n",
       "    </tr>\n",
       "    <tr>\n",
       "      <th>3</th>\n",
       "      <td>Undertale</td>\n",
       "      <td>Sep 15, 2015</td>\n",
       "      <td>['tobyfox', '8-4']</td>\n",
       "      <td>4.2</td>\n",
       "      <td>3.5K</td>\n",
       "      <td>28K</td>\n",
       "      <td>679</td>\n",
       "      <td>NaN</td>\n",
       "      <td>NaN</td>\n",
       "      <td>NaN</td>\n",
       "      <td>NaN</td>\n",
       "      <td>NaN</td>\n",
       "      <td>NaN</td>\n",
       "      <td>NaN</td>\n",
       "      <td>NaN</td>\n",
       "      <td>NaN</td>\n",
       "    </tr>\n",
       "    <tr>\n",
       "      <th>4</th>\n",
       "      <td>Hollow Knight</td>\n",
       "      <td>Feb 24, 2017</td>\n",
       "      <td>['Team Cherry']</td>\n",
       "      <td>4.4</td>\n",
       "      <td>3K</td>\n",
       "      <td>21K</td>\n",
       "      <td>2.4K</td>\n",
       "      <td>NaN</td>\n",
       "      <td>NaN</td>\n",
       "      <td>NaN</td>\n",
       "      <td>NaN</td>\n",
       "      <td>NaN</td>\n",
       "      <td>NaN</td>\n",
       "      <td>NaN</td>\n",
       "      <td>NaN</td>\n",
       "      <td>NaN</td>\n",
       "    </tr>\n",
       "  </tbody>\n",
       "</table>\n",
       "</div>"
      ],
      "text/plain": [
       "                                     Title  Release Date  \\\n",
       "0                               Elden Ring  Feb 25, 2022   \n",
       "1                                    Hades  Dec 10, 2019   \n",
       "2  The Legend of Zelda: Breath of the Wild  Mar 03, 2017   \n",
       "3                                Undertale  Sep 15, 2015   \n",
       "4                            Hollow Knight  Feb 24, 2017   \n",
       "\n",
       "                                                Team  Rating  \\\n",
       "0     ['Bandai Namco Entertainment', 'FromSoftware']     4.5   \n",
       "1                               ['Supergiant Games']     4.3   \n",
       "2  ['Nintendo', 'Nintendo EPD Production Group No...     4.4   \n",
       "3                                 ['tobyfox', '8-4']     4.2   \n",
       "4                                    ['Team Cherry']     4.4   \n",
       "\n",
       "  Number of Reviews Plays Playing  rank platform genre publisher  na_sales  \\\n",
       "0              3.9K   17K    3.8K   NaN      NaN   NaN       NaN       NaN   \n",
       "1              2.9K   21K    3.2K   NaN      NaN   NaN       NaN       NaN   \n",
       "2              4.3K   30K    2.5K   NaN      NaN   NaN       NaN       NaN   \n",
       "3              3.5K   28K     679   NaN      NaN   NaN       NaN       NaN   \n",
       "4                3K   21K    2.4K   NaN      NaN   NaN       NaN       NaN   \n",
       "\n",
       "   eu_sales  jp_sales  other_sales  global_sales  \n",
       "0       NaN       NaN          NaN           NaN  \n",
       "1       NaN       NaN          NaN           NaN  \n",
       "2       NaN       NaN          NaN           NaN  \n",
       "3       NaN       NaN          NaN           NaN  \n",
       "4       NaN       NaN          NaN           NaN  "
      ]
     },
     "execution_count": 2,
     "metadata": {},
     "output_type": "execute_result"
    }
   ],
   "source": [
    "# The path to our CSV file\n",
    "file = \"Resources/merged_data_4.csv\"\n",
    "\n",
    "# Read our Crowdfunding data into pandas\n",
    "df = pd.read_csv(file)\n",
    "df.head()"
   ]
  },
  {
   "cell_type": "code",
   "execution_count": 20,
   "metadata": {},
   "outputs": [
    {
     "data": {
      "text/plain": [
       "Index(['Title', 'Release Date', 'Team', 'Rating', 'Number of Reviews', 'Plays',\n",
       "       'Playing', 'rank', 'platform', 'genre', 'publisher', 'na_sales',\n",
       "       'eu_sales', 'jp_sales', 'other_sales', 'global_sales'],\n",
       "      dtype='object')"
      ]
     },
     "execution_count": 20,
     "metadata": {},
     "output_type": "execute_result"
    }
   ],
   "source": [
    "# Get a list of all of our columns for easy reference\n",
    "df.columns"
   ]
  },
  {
   "cell_type": "code",
   "execution_count": 38,
   "metadata": {
    "scrolled": true
   },
   "outputs": [
    {
     "name": "stdout",
     "output_type": "stream",
     "text": [
      "['Action', 'Adventure', 'Fighting', 'Misc', 'Platform', 'Puzzle', 'Racing', 'Role-Playing', 'Shooter', 'Simulation', 'Sports', 'Strategy']\n"
     ]
    },
    {
     "data": {
      "text/html": [
       "<div>\n",
       "<style scoped>\n",
       "    .dataframe tbody tr th:only-of-type {\n",
       "        vertical-align: middle;\n",
       "    }\n",
       "\n",
       "    .dataframe tbody tr th {\n",
       "        vertical-align: top;\n",
       "    }\n",
       "\n",
       "    .dataframe thead th {\n",
       "        text-align: right;\n",
       "    }\n",
       "</style>\n",
       "<table border=\"1\" class=\"dataframe\">\n",
       "  <thead>\n",
       "    <tr style=\"text-align: right;\">\n",
       "      <th></th>\n",
       "      <th>rank</th>\n",
       "      <th>platform</th>\n",
       "      <th>genre</th>\n",
       "      <th>global_sales</th>\n",
       "    </tr>\n",
       "  </thead>\n",
       "  <tbody>\n",
       "    <tr>\n",
       "      <th>5</th>\n",
       "      <td>73.0</td>\n",
       "      <td>X360</td>\n",
       "      <td>Misc</td>\n",
       "      <td>9.20</td>\n",
       "    </tr>\n",
       "    <tr>\n",
       "      <th>12</th>\n",
       "      <td>246.0</td>\n",
       "      <td>PS2</td>\n",
       "      <td>Action</td>\n",
       "      <td>4.45</td>\n",
       "    </tr>\n",
       "    <tr>\n",
       "      <th>13</th>\n",
       "      <td>791.0</td>\n",
       "      <td>X360</td>\n",
       "      <td>Shooter</td>\n",
       "      <td>2.10</td>\n",
       "    </tr>\n",
       "    <tr>\n",
       "      <th>14</th>\n",
       "      <td>662.0</td>\n",
       "      <td>PS4</td>\n",
       "      <td>Action</td>\n",
       "      <td>2.38</td>\n",
       "    </tr>\n",
       "    <tr>\n",
       "      <th>22</th>\n",
       "      <td>1293.0</td>\n",
       "      <td>PS3</td>\n",
       "      <td>Action</td>\n",
       "      <td>1.47</td>\n",
       "    </tr>\n",
       "  </tbody>\n",
       "</table>\n",
       "</div>"
      ],
      "text/plain": [
       "      rank platform    genre  global_sales\n",
       "5     73.0     X360     Misc          9.20\n",
       "12   246.0      PS2   Action          4.45\n",
       "13   791.0     X360  Shooter          2.10\n",
       "14   662.0      PS4   Action          2.38\n",
       "22  1293.0      PS3   Action          1.47"
      ]
     },
     "execution_count": 38,
     "metadata": {},
     "output_type": "execute_result"
    }
   ],
   "source": [
    "df_reduced = df.drop(['Title', 'Release Date', 'Team', 'Rating', 'Number of Reviews', 'Plays', 'Playing', 'publisher', 'na_sales', 'eu_sales', 'jp_sales', 'other_sales'], axis=1)\n",
    "\n",
    "# get unique list of genres\n",
    "genres = df_reduced['genre'].unique()\n",
    "print(sorted(genres))\n",
    "\n",
    "df_reduced.head()"
   ]
  },
  {
   "cell_type": "code",
   "execution_count": 42,
   "metadata": {},
   "outputs": [
    {
     "name": "stdout",
     "output_type": "stream",
     "text": [
      "Genre: Misc, Platform: X360, Sales: 9.2\n",
      "Genre: Action, Platform: PS3, Sales: 21.4\n",
      "Genre: Shooter, Platform: X360, Sales: 14.76\n",
      "Genre: Role-Playing, Platform: PS, Sales: 9.72\n",
      "Genre: Platform, Platform: NES, Sales: 40.24\n",
      "Genre: Adventure, Platform: X360, Sales: 5.55\n",
      "Genre: Sports, Platform: Wii, Sales: 82.74\n",
      "Genre: Racing, Platform: Wii, Sales: 35.82\n",
      "Genre: Strategy, Platform: PC, Sales: 1.69\n",
      "Genre: Puzzle, Platform: GB, Sales: 30.26\n",
      "Genre: Simulation, Platform: 3DS, Sales: 9.09\n",
      "Genre: Fighting, Platform: Wii, Sales: 13.04\n"
     ]
    }
   ],
   "source": [
    "for genre in genres:\n",
    "    # get the value in genre corresponding to the row with the maximum value in rank \n",
    "    max_sales = df_reduced.loc[df['genre'] == genre, 'global_sales'].max()\n",
    "    \n",
    "    # get the platform and sales for the max ranked genre\n",
    "    plat = df.loc[(df['genre'] == genre) & (df['global_sales'] == max_sales), 'platform'].values[0]\n",
    "    # sales = df.loc[(df['genre'] == genre) & (df['rank'] == max_val), 'global_sales'].values[0]\n",
    "    \n",
    "    print(f\"Genre: {genre}, Platform: {plat}, Sales: {max_sales}\")"
   ]
  }
 ],
 "metadata": {
  "kernelspec": {
   "display_name": "Python 3",
   "language": "python",
   "name": "python3"
  },
  "language_info": {
   "codemirror_mode": {
    "name": "ipython",
    "version": 3
   },
   "file_extension": ".py",
   "mimetype": "text/x-python",
   "name": "python",
   "nbconvert_exporter": "python",
   "pygments_lexer": "ipython3",
   "version": "3.9.15"
  },
  "varInspector": {
   "cols": {
    "lenName": 16,
    "lenType": 16,
    "lenVar": 40
   },
   "kernels_config": {
    "python": {
     "delete_cmd_postfix": "",
     "delete_cmd_prefix": "del ",
     "library": "var_list.py",
     "varRefreshCmd": "print(var_dic_list())"
    },
    "r": {
     "delete_cmd_postfix": ") ",
     "delete_cmd_prefix": "rm(",
     "library": "var_list.r",
     "varRefreshCmd": "cat(var_dic_list()) "
    }
   },
   "types_to_exclude": [
    "module",
    "function",
    "builtin_function_or_method",
    "instance",
    "_Feature"
   ],
   "window_display": false
  }
 },
 "nbformat": 4,
 "nbformat_minor": 2
}
